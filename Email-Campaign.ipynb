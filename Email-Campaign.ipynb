{
 "cells": [
  {
   "cell_type": "markdown",
   "id": "3603dc6f",
   "metadata": {},
   "source": [
    "Email Campaign Gig"
   ]
  },
  {
   "cell_type": "markdown",
   "id": "98bcb5b9",
   "metadata": {},
   "source": []
  },
  {
   "cell_type": "code",
   "execution_count": 1,
   "id": "d370b60f",
   "metadata": {},
   "outputs": [],
   "source": [
    "# Import relevant Python libraries and modules\n",
    "\n",
    "import pandas as pd\n",
    "import matplotlib.pyplot as plt\n",
    "import seaborn as sns"
   ]
  },
  {
   "cell_type": "code",
   "execution_count": 2,
   "id": "836ec25c",
   "metadata": {},
   "outputs": [],
   "source": [
    "data = pd.read_csv(\"Campaigns-Data.csv\")"
   ]
  },
  {
   "cell_type": "code",
   "execution_count": null,
   "id": "60a7e6b3",
   "metadata": {},
   "outputs": [],
   "source": []
  }
 ],
 "metadata": {
  "kernelspec": {
   "display_name": "base",
   "language": "python",
   "name": "python3"
  },
  "language_info": {
   "codemirror_mode": {
    "name": "ipython",
    "version": 3
   },
   "file_extension": ".py",
   "mimetype": "text/x-python",
   "name": "python",
   "nbconvert_exporter": "python",
   "pygments_lexer": "ipython3",
   "version": "3.9.13"
  }
 },
 "nbformat": 4,
 "nbformat_minor": 5
}
